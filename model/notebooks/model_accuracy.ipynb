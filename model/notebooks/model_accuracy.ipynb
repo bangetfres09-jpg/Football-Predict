{
 "cells": [
  {
   "cell_type": "code",
   "execution_count": 1,
   "metadata": {},
   "outputs": [],
   "source": [
    "import yaml\n",
    "import pandas as pd\n",
    "import numpy as np\n",
    "import xgboost as xgb\n",
    "\n",
    "from sklearn.utils.class_weight import compute_sample_weight\n",
    "from sklearn.model_selection import train_test_split\n",
    "from sklearn.model_selection import GridSearchCV\n",
    "from sklearn.tree import DecisionTreeClassifier\n",
    "\n",
    "from skopt.space import Real, Integer\n",
    "from skopt import BayesSearchCV\n",
    "\n",
    "from sklearn.metrics import confusion_matrix\n",
    "from sklearn.metrics import balanced_accuracy_score\n",
    "from sklearn.metrics import accuracy_score\n",
    "from sklearn.metrics import roc_auc_score\n",
    "from sklearn import tree\n",
    "\n",
    "from matplotlib import pyplot as plt\n",
    "from seaborn import heatmap\n",
    "\n",
    "import pickle"
   ]
  },
  {
   "cell_type": "code",
   "execution_count": 2,
   "metadata": {},
   "outputs": [],
   "source": [
    "# Read config file\n",
    "with open(\"config.yaml\", 'r') as configuration:\n",
    "    config = yaml.safe_load(configuration)"
   ]
  },
  {
   "cell_type": "code",
   "execution_count": 3,
   "metadata": {},
   "outputs": [],
   "source": [
    "PL_df = pd.read_csv('hist_PremierLeague.csv', sep=',')\n",
    "BL_df = pd.read_csv('hist_Bundesliga.csv', sep=',')\n",
    "SP_df = pd.read_csv('hist_LaLiga.csv', sep=',')\n",
    "IT_df = pd.read_csv('hist_SerieA.csv', sep=',')\n",
    "FR_df = pd.read_csv('hist_Ligue1.csv', sep=',')"
   ]
  },
  {
   "cell_type": "code",
   "execution_count": 4,
   "metadata": {},
   "outputs": [],
   "source": [
    "#data = pd.concat([PL_df,BL_df,SP_df,IT_df,FR_df])\n",
    "#data = data.reset_index(drop=True)"
   ]
  },
  {
   "cell_type": "code",
   "execution_count": 5,
   "metadata": {},
   "outputs": [],
   "source": [
    "data = FR_df"
   ]
  },
  {
   "cell_type": "code",
   "execution_count": 6,
   "metadata": {},
   "outputs": [],
   "source": [
    "y_true = data.FTR\n",
    "data = data.drop(['FTR','Date','HomeTeam','AwayTeam','h_course','d_course','a_course'], axis=1)"
   ]
  },
  {
   "cell_type": "code",
   "execution_count": 7,
   "metadata": {},
   "outputs": [
    {
     "data": {
      "text/html": [
       "<div>\n",
       "<style scoped>\n",
       "    .dataframe tbody tr th:only-of-type {\n",
       "        vertical-align: middle;\n",
       "    }\n",
       "\n",
       "    .dataframe tbody tr th {\n",
       "        vertical-align: top;\n",
       "    }\n",
       "\n",
       "    .dataframe thead th {\n",
       "        text-align: right;\n",
       "    }\n",
       "</style>\n",
       "<table border=\"1\" class=\"dataframe\">\n",
       "  <thead>\n",
       "    <tr style=\"text-align: right;\">\n",
       "      <th></th>\n",
       "      <th>pr_h_won</th>\n",
       "      <th>pr_draw</th>\n",
       "      <th>pr_a_won</th>\n",
       "      <th>prediction</th>\n",
       "    </tr>\n",
       "  </thead>\n",
       "  <tbody>\n",
       "    <tr>\n",
       "      <th>0</th>\n",
       "      <td>0.5922</td>\n",
       "      <td>0.1958</td>\n",
       "      <td>0.2120</td>\n",
       "      <td>H</td>\n",
       "    </tr>\n",
       "    <tr>\n",
       "      <th>1</th>\n",
       "      <td>0.2065</td>\n",
       "      <td>0.2035</td>\n",
       "      <td>0.5901</td>\n",
       "      <td>A</td>\n",
       "    </tr>\n",
       "    <tr>\n",
       "      <th>2</th>\n",
       "      <td>0.2911</td>\n",
       "      <td>0.2225</td>\n",
       "      <td>0.4864</td>\n",
       "      <td>A</td>\n",
       "    </tr>\n",
       "    <tr>\n",
       "      <th>3</th>\n",
       "      <td>0.3762</td>\n",
       "      <td>0.2704</td>\n",
       "      <td>0.3534</td>\n",
       "      <td>D</td>\n",
       "    </tr>\n",
       "    <tr>\n",
       "      <th>4</th>\n",
       "      <td>0.4749</td>\n",
       "      <td>0.1822</td>\n",
       "      <td>0.3430</td>\n",
       "      <td>A</td>\n",
       "    </tr>\n",
       "    <tr>\n",
       "      <th>...</th>\n",
       "      <td>...</td>\n",
       "      <td>...</td>\n",
       "      <td>...</td>\n",
       "      <td>...</td>\n",
       "    </tr>\n",
       "    <tr>\n",
       "      <th>374</th>\n",
       "      <td>0.4113</td>\n",
       "      <td>0.3023</td>\n",
       "      <td>0.2864</td>\n",
       "      <td>D</td>\n",
       "    </tr>\n",
       "    <tr>\n",
       "      <th>375</th>\n",
       "      <td>0.5250</td>\n",
       "      <td>0.2443</td>\n",
       "      <td>0.2307</td>\n",
       "      <td>H</td>\n",
       "    </tr>\n",
       "    <tr>\n",
       "      <th>376</th>\n",
       "      <td>0.5619</td>\n",
       "      <td>0.2343</td>\n",
       "      <td>0.2038</td>\n",
       "      <td>H</td>\n",
       "    </tr>\n",
       "    <tr>\n",
       "      <th>377</th>\n",
       "      <td>0.7782</td>\n",
       "      <td>0.1407</td>\n",
       "      <td>0.0811</td>\n",
       "      <td>H</td>\n",
       "    </tr>\n",
       "    <tr>\n",
       "      <th>378</th>\n",
       "      <td>0.3535</td>\n",
       "      <td>0.2310</td>\n",
       "      <td>0.4155</td>\n",
       "      <td>A</td>\n",
       "    </tr>\n",
       "  </tbody>\n",
       "</table>\n",
       "<p>379 rows × 4 columns</p>\n",
       "</div>"
      ],
      "text/plain": [
       "     pr_h_won  pr_draw  pr_a_won prediction\n",
       "0      0.5922   0.1958    0.2120          H\n",
       "1      0.2065   0.2035    0.5901          A\n",
       "2      0.2911   0.2225    0.4864          A\n",
       "3      0.3762   0.2704    0.3534          D\n",
       "4      0.4749   0.1822    0.3430          A\n",
       "..        ...      ...       ...        ...\n",
       "374    0.4113   0.3023    0.2864          D\n",
       "375    0.5250   0.2443    0.2307          H\n",
       "376    0.5619   0.2343    0.2038          H\n",
       "377    0.7782   0.1407    0.0811          H\n",
       "378    0.3535   0.2310    0.4155          A\n",
       "\n",
       "[379 rows x 4 columns]"
      ]
     },
     "execution_count": 7,
     "metadata": {},
     "output_type": "execute_result"
    }
   ],
   "source": [
    "# ---------------------------------------\n",
    "# MODEL COMPONENTS\n",
    "# Uploading models and components\n",
    "xgb_model = pickle.load(open('model\\\\xgb_model.pkl', \"rb\"))\n",
    "tree_model = pickle.load(open('model\\\\tree_model.pkl', \"rb\"))\n",
    "dicts2translate = pickle.load(open('model\\\\dicts2translate.pkl', \"rb\"))\n",
    "\n",
    "# Prediction\n",
    "preds = pd.DataFrame(xgb_model.predict_proba(data))\n",
    "\n",
    "pred_df = pd.DataFrame()\n",
    "pred_df['pr_h_won'] = preds[0]\n",
    "pred_df['pr_draw']  = preds[1]\n",
    "pred_df['pr_a_won'] = preds[2]\n",
    "\n",
    "# Add a column with information about who will win the match according to the decision tree\n",
    "tree_preds = tree_model.predict(preds)\n",
    "preds_after_translation = [dicts2translate['idx2str'][elem] for elem in tree_preds]\n",
    "pred_df['prediction'] = preds_after_translation\n",
    "pred_df = pred_df.round({'pr_h_won': 4, 'pr_draw': 4, 'pr_a_won': 4})\n",
    "# ---------------------------------------\n",
    "pred_df"
   ]
  },
  {
   "cell_type": "code",
   "execution_count": 8,
   "metadata": {},
   "outputs": [
    {
     "name": "stdout",
     "output_type": "stream",
     "text": [
      "--- ACCURACY ---\n",
      "TRAIN: 0.48\n",
      "--- BALANCED ACCURACY ---\n",
      "TRAIN: 0.46\n"
     ]
    }
   ],
   "source": [
    "# BALANCED ACCURACY\n",
    "print('--- ACCURACY ---')\n",
    "print('TRAIN:', accuracy_score(y_true, pred_df.prediction).round(2))\n",
    "\n",
    "print('--- BALANCED ACCURACY ---')\n",
    "print('TRAIN:', balanced_accuracy_score(y_true, pred_df.prediction).round(2))"
   ]
  },
  {
   "cell_type": "code",
   "execution_count": null,
   "metadata": {},
   "outputs": [],
   "source": []
  }
 ],
 "metadata": {
  "kernelspec": {
   "display_name": "Python 3 (ipykernel)",
   "language": "python",
   "name": "python3"
  },
  "language_info": {
   "codemirror_mode": {
    "name": "ipython",
    "version": 3
   },
   "file_extension": ".py",
   "mimetype": "text/x-python",
   "name": "python",
   "nbconvert_exporter": "python",
   "pygments_lexer": "ipython3",
   "version": "3.9.7"
  }
 },
 "nbformat": 4,
 "nbformat_minor": 4
}
